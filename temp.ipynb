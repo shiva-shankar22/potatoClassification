{
 "cells": [
  {
   "cell_type": "code",
   "execution_count": 27,
   "metadata": {},
   "outputs": [
    {
     "name": "stdout",
     "output_type": "stream",
     "text": [
      "True\n"
     ]
    }
   ],
   "source": [
    "import cv2\n",
    "import os\n",
    "path=\"C:/Users/styli/Downloads/RGB_Augmented/DRstressed\"\n",
    "lis=[ path+'/'+img for img in os.listdir(path)] \n",
    "lis=lis[:50]\n",
    "path=\"C:/Users/styli/Downloads/RGB_Augmented/DRhealthy\"\n",
    "l=[path+'/'+img for img in os.listdir(path)]\n",
    "images=lis+l[:50]\n",
    "labels=(['stressed']*50) + (['healthy'] *50)\n",
    "\n",
    "# print(len(labels))\n",
    "\n",
    "# for img in os.listdir(\"C:/Users/styli/Downloads/RGB_Augmented/DRstressed\"):\n",
    "#      image=cv2.imread(path+'/'+img)\n",
    "#      print(image)\n",
    "#      break\n",
    "# path=\"C:/Users/styli/Downloads/RGB_Augmented/DRstressed\"\n",
    "\n",
    "\n",
    "# lis=[ path+'/'+img for img in os.listdir(path)] \n",
    "\n",
    "# lis=lis[:50]\n",
    "# print(len(lis))\n",
    "# lis+=[path+'/'+img for img in os.listdir(path)]\n",
    "# lis=lis[:100]\n",
    "# print(len(lis))\n",
    "\n",
    "print(len(labels)==len(images))\n"
   ]
  }
 ],
 "metadata": {
  "kernelspec": {
   "display_name": "Python 3",
   "language": "python",
   "name": "python3"
  },
  "language_info": {
   "codemirror_mode": {
    "name": "ipython",
    "version": 3
   },
   "file_extension": ".py",
   "mimetype": "text/x-python",
   "name": "python",
   "nbconvert_exporter": "python",
   "pygments_lexer": "ipython3",
   "version": "3.10.0"
  },
  "orig_nbformat": 4
 },
 "nbformat": 4,
 "nbformat_minor": 2
}
