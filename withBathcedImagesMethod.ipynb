{
 "cells": [
  {
   "cell_type": "code",
   "execution_count": 2,
   "metadata": {},
   "outputs": [
    {
     "ename": "TypeError",
     "evalue": "BaseForest.fit() got an unexpected keyword argument 'steps_per_epoch'",
     "output_type": "error",
     "traceback": [
      "\u001b[1;31m---------------------------------------------------------------------------\u001b[0m",
      "\u001b[1;31mTypeError\u001b[0m                                 Traceback (most recent call last)",
      "\u001b[1;32mc:\\Users\\styli\\Downloads\\potatoClassification\\withBathcedImagesMethod.ipynb Cell 1\u001b[0m in \u001b[0;36m<cell line: 41>\u001b[1;34m()\u001b[0m\n\u001b[0;32m     <a href='vscode-notebook-cell:/c%3A/Users/styli/Downloads/potatoClassification/withBathcedImagesMethod.ipynb#W0sZmlsZQ%3D%3D?line=38'>39</a>\u001b[0m \u001b[39m# Train a random forest classifier\u001b[39;00m\n\u001b[0;32m     <a href='vscode-notebook-cell:/c%3A/Users/styli/Downloads/potatoClassification/withBathcedImagesMethod.ipynb#W0sZmlsZQ%3D%3D?line=39'>40</a>\u001b[0m clf \u001b[39m=\u001b[39m RandomForestClassifier()\n\u001b[1;32m---> <a href='vscode-notebook-cell:/c%3A/Users/styli/Downloads/potatoClassification/withBathcedImagesMethod.ipynb#W0sZmlsZQ%3D%3D?line=40'>41</a>\u001b[0m clf\u001b[39m.\u001b[39;49mfit(train_generator, steps_per_epoch\u001b[39m=\u001b[39;49m\u001b[39m10\u001b[39;49m, epochs\u001b[39m=\u001b[39;49m\u001b[39m10\u001b[39;49m)\n\u001b[0;32m     <a href='vscode-notebook-cell:/c%3A/Users/styli/Downloads/potatoClassification/withBathcedImagesMethod.ipynb#W0sZmlsZQ%3D%3D?line=41'>42</a>\u001b[0m \u001b[39m#clf.fit_generator(train_generator, steps_per_epoch=10, epochs=10)\u001b[39;00m\n\u001b[0;32m     <a href='vscode-notebook-cell:/c%3A/Users/styli/Downloads/potatoClassification/withBathcedImagesMethod.ipynb#W0sZmlsZQ%3D%3D?line=42'>43</a>\u001b[0m \n\u001b[0;32m     <a href='vscode-notebook-cell:/c%3A/Users/styli/Downloads/potatoClassification/withBathcedImagesMethod.ipynb#W0sZmlsZQ%3D%3D?line=43'>44</a>\u001b[0m \u001b[39m# Make predictions on the test data\u001b[39;00m\n\u001b[0;32m     <a href='vscode-notebook-cell:/c%3A/Users/styli/Downloads/potatoClassification/withBathcedImagesMethod.ipynb#W0sZmlsZQ%3D%3D?line=44'>45</a>\u001b[0m X_test, y_test \u001b[39m=\u001b[39m \u001b[39mnext\u001b[39m(test_generator)\n",
      "\u001b[1;31mTypeError\u001b[0m: BaseForest.fit() got an unexpected keyword argument 'steps_per_epoch'"
     ]
    }
   ],
   "source": [
    "import numpy as np\n",
    "import matplotlib.pyplot as plt\n",
    "import seaborn as sns\n",
    "import os\n",
    "import cv2\n",
    "from sklearn.model_selection import train_test_split\n",
    "from sklearn.metrics import classification_report\n",
    "from sklearn.preprocessing import LabelEncoder\n",
    "from sklearn.ensemble import RandomForestClassifier\n",
    "def image_generator(directory, batch_size):\n",
    "    i = 0\n",
    "    file_list = os.listdir(directory)\n",
    "    while True:\n",
    "        batch_files = file_list[i:i+batch_size]\n",
    "        batch_images = []\n",
    "        batch_labels = []\n",
    "        for file in batch_files:\n",
    "            img = cv2.imread(os.path.join(directory, file))\n",
    "            if img is not None:\n",
    "                img = cv2.resize(img, (224, 224))\n",
    "                img = img.reshape(-1)\n",
    "                batch_images.append(img)\n",
    "                if \"healthy\" in file:\n",
    "                    batch_labels.append(0)\n",
    "                else:\n",
    "                    batch_labels.append(1)\n",
    "        batch_images = np.array(batch_images)\n",
    "        batch_labels = np.array(batch_labels)\n",
    "        i += batch_size\n",
    "        if i >= len(file_list):\n",
    "            i = 0\n",
    "            np.random.shuffle(file_list)\n",
    "        yield batch_images, batch_labels\n",
    "\n",
    "# Create generators for the training and testing data\n",
    "train_generator = image_generator(\"C:/Users/styli/Downloads/RGB_Augmented/\", batch_size=32)\n",
    "test_generator = image_generator(\"C:/Users/styli/Downloads/RGB_Augmented/\", batch_size=32)\n",
    "\n",
    "# Train a random forest classifier\n",
    "clf = RandomForestClassifier()\n",
    "# clf.fit(train_generator,)\n",
    "clf.fit_generator(train_generator, steps_per_epoch=10, epochs=10)\n",
    "\n",
    "# Make predictions on the test data\n",
    "X_test, y_test = next(test_generator)\n",
    "y_pred = clf.predict(X_test)\n",
    "\n",
    "# Print the classification report\n",
    "print(classification_report(y_test, y_pred))\n"
   ]
  }
 ],
 "metadata": {
  "kernelspec": {
   "display_name": "Python 3",
   "language": "python",
   "name": "python3"
  },
  "language_info": {
   "codemirror_mode": {
    "name": "ipython",
    "version": 3
   },
   "file_extension": ".py",
   "mimetype": "text/x-python",
   "name": "python",
   "nbconvert_exporter": "python",
   "pygments_lexer": "ipython3",
   "version": "3.10.0"
  },
  "orig_nbformat": 4,
  "vscode": {
   "interpreter": {
    "hash": "b7ce7abf22f7a5afaad09d1a9716ec4cc0abdc414e5727d55e5cf8e73ea96cf8"
   }
  }
 },
 "nbformat": 4,
 "nbformat_minor": 2
}
