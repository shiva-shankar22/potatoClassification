{
 "cells": [
  {
   "cell_type": "code",
   "execution_count": 2,
   "metadata": {},
   "outputs": [
    {
     "name": "stdout",
     "output_type": "stream",
     "text": [
      "150 150\n"
     ]
    },
    {
     "ename": "ValueError",
     "evalue": "`x` (images tensor) and `y` (labels) should have the same length. Found: x.shape = (750, 750, 3), y.shape = (241,)",
     "output_type": "error",
     "traceback": [
      "\u001b[1;31m---------------------------------------------------------------------------\u001b[0m",
      "\u001b[1;31mValueError\u001b[0m                                Traceback (most recent call last)",
      "\u001b[1;32mc:\\Users\\styli\\Downloads\\potatoClassification\\anotherApproach.ipynb Cell 1\u001b[0m in \u001b[0;36m<cell line: 51>\u001b[1;34m()\u001b[0m\n\u001b[0;32m     <a href='vscode-notebook-cell:/c%3A/Users/styli/Downloads/potatoClassification/anotherApproach.ipynb#W0sZmlsZQ%3D%3D?line=47'>48</a>\u001b[0m X_train, X_test, y_train, y_test \u001b[39m=\u001b[39m train_test_split(images, y, test_size\u001b[39m=\u001b[39m\u001b[39m0.2\u001b[39m)\n\u001b[0;32m     <a href='vscode-notebook-cell:/c%3A/Users/styli/Downloads/potatoClassification/anotherApproach.ipynb#W0sZmlsZQ%3D%3D?line=49'>50</a>\u001b[0m \u001b[39m# Generate batches of augmented training data\u001b[39;00m\n\u001b[1;32m---> <a href='vscode-notebook-cell:/c%3A/Users/styli/Downloads/potatoClassification/anotherApproach.ipynb#W0sZmlsZQ%3D%3D?line=50'>51</a>\u001b[0m train_generator \u001b[39m=\u001b[39m data_generator\u001b[39m.\u001b[39;49mflow(X_train, y_train, batch_size\u001b[39m=\u001b[39;49m\u001b[39m32\u001b[39;49m)\n\u001b[0;32m     <a href='vscode-notebook-cell:/c%3A/Users/styli/Downloads/potatoClassification/anotherApproach.ipynb#W0sZmlsZQ%3D%3D?line=52'>53</a>\u001b[0m \u001b[39m# Train a random forest classifier\u001b[39;00m\n\u001b[0;32m     <a href='vscode-notebook-cell:/c%3A/Users/styli/Downloads/potatoClassification/anotherApproach.ipynb#W0sZmlsZQ%3D%3D?line=53'>54</a>\u001b[0m clf \u001b[39m=\u001b[39m RandomForestClassifier()\n",
      "File \u001b[1;32mc:\\Users\\styli\\AppData\\Local\\Programs\\Python\\Python310\\lib\\site-packages\\keras\\preprocessing\\image.py:1545\u001b[0m, in \u001b[0;36mImageDataGenerator.flow\u001b[1;34m(self, x, y, batch_size, shuffle, sample_weight, seed, save_to_dir, save_prefix, save_format, ignore_class_split, subset)\u001b[0m\n\u001b[0;32m   1486\u001b[0m \u001b[39mdef\u001b[39;00m \u001b[39mflow\u001b[39m(\n\u001b[0;32m   1487\u001b[0m     \u001b[39mself\u001b[39m,\n\u001b[0;32m   1488\u001b[0m     x,\n\u001b[1;32m   (...)\u001b[0m\n\u001b[0;32m   1498\u001b[0m     subset\u001b[39m=\u001b[39m\u001b[39mNone\u001b[39;00m,\n\u001b[0;32m   1499\u001b[0m ):\n\u001b[0;32m   1500\u001b[0m     \u001b[39m\"\"\"Takes data & label arrays, generates batches of augmented data.\u001b[39;00m\n\u001b[0;32m   1501\u001b[0m \n\u001b[0;32m   1502\u001b[0m \u001b[39m    Args:\u001b[39;00m\n\u001b[1;32m   (...)\u001b[0m\n\u001b[0;32m   1543\u001b[0m \n\u001b[0;32m   1544\u001b[0m \u001b[39m    \"\"\"\u001b[39;00m\n\u001b[1;32m-> 1545\u001b[0m     \u001b[39mreturn\u001b[39;00m NumpyArrayIterator(\n\u001b[0;32m   1546\u001b[0m         x,\n\u001b[0;32m   1547\u001b[0m         y,\n\u001b[0;32m   1548\u001b[0m         \u001b[39mself\u001b[39;49m,\n\u001b[0;32m   1549\u001b[0m         batch_size\u001b[39m=\u001b[39;49mbatch_size,\n\u001b[0;32m   1550\u001b[0m         shuffle\u001b[39m=\u001b[39;49mshuffle,\n\u001b[0;32m   1551\u001b[0m         sample_weight\u001b[39m=\u001b[39;49msample_weight,\n\u001b[0;32m   1552\u001b[0m         seed\u001b[39m=\u001b[39;49mseed,\n\u001b[0;32m   1553\u001b[0m         data_format\u001b[39m=\u001b[39;49m\u001b[39mself\u001b[39;49m\u001b[39m.\u001b[39;49mdata_format,\n\u001b[0;32m   1554\u001b[0m         save_to_dir\u001b[39m=\u001b[39;49msave_to_dir,\n\u001b[0;32m   1555\u001b[0m         save_prefix\u001b[39m=\u001b[39;49msave_prefix,\n\u001b[0;32m   1556\u001b[0m         save_format\u001b[39m=\u001b[39;49msave_format,\n\u001b[0;32m   1557\u001b[0m         ignore_class_split\u001b[39m=\u001b[39;49mignore_class_split,\n\u001b[0;32m   1558\u001b[0m         subset\u001b[39m=\u001b[39;49msubset,\n\u001b[0;32m   1559\u001b[0m         dtype\u001b[39m=\u001b[39;49m\u001b[39mself\u001b[39;49m\u001b[39m.\u001b[39;49mdtype,\n\u001b[0;32m   1560\u001b[0m     )\n",
      "File \u001b[1;32mc:\\Users\\styli\\AppData\\Local\\Programs\\Python\\Python310\\lib\\site-packages\\keras\\preprocessing\\image.py:707\u001b[0m, in \u001b[0;36mNumpyArrayIterator.__init__\u001b[1;34m(self, x, y, image_data_generator, batch_size, shuffle, sample_weight, seed, data_format, save_to_dir, save_prefix, save_format, subset, ignore_class_split, dtype)\u001b[0m\n\u001b[0;32m    704\u001b[0m     x_misc \u001b[39m=\u001b[39m []\n\u001b[0;32m    706\u001b[0m \u001b[39mif\u001b[39;00m y \u001b[39mis\u001b[39;00m \u001b[39mnot\u001b[39;00m \u001b[39mNone\u001b[39;00m \u001b[39mand\u001b[39;00m \u001b[39mlen\u001b[39m(x) \u001b[39m!=\u001b[39m \u001b[39mlen\u001b[39m(y):\n\u001b[1;32m--> 707\u001b[0m     \u001b[39mraise\u001b[39;00m \u001b[39mValueError\u001b[39;00m(\n\u001b[0;32m    708\u001b[0m         \u001b[39m\"\u001b[39m\u001b[39m`x` (images tensor) and `y` (labels) \u001b[39m\u001b[39m\"\u001b[39m\n\u001b[0;32m    709\u001b[0m         \u001b[39m\"\u001b[39m\u001b[39mshould have the same length. \u001b[39m\u001b[39m\"\u001b[39m\n\u001b[0;32m    710\u001b[0m         \u001b[39m\"\u001b[39m\u001b[39mFound: x.shape = \u001b[39m\u001b[39m%s\u001b[39;00m\u001b[39m, y.shape = \u001b[39m\u001b[39m%s\u001b[39;00m\u001b[39m\"\u001b[39m\n\u001b[0;32m    711\u001b[0m         \u001b[39m%\u001b[39m (np\u001b[39m.\u001b[39masarray(x)\u001b[39m.\u001b[39mshape, np\u001b[39m.\u001b[39masarray(y)\u001b[39m.\u001b[39mshape)\n\u001b[0;32m    712\u001b[0m     )\n\u001b[0;32m    713\u001b[0m \u001b[39mif\u001b[39;00m sample_weight \u001b[39mis\u001b[39;00m \u001b[39mnot\u001b[39;00m \u001b[39mNone\u001b[39;00m \u001b[39mand\u001b[39;00m \u001b[39mlen\u001b[39m(x) \u001b[39m!=\u001b[39m \u001b[39mlen\u001b[39m(sample_weight):\n\u001b[0;32m    714\u001b[0m     \u001b[39mraise\u001b[39;00m \u001b[39mValueError\u001b[39;00m(\n\u001b[0;32m    715\u001b[0m         \u001b[39m\"\u001b[39m\u001b[39m`x` (images tensor) and `sample_weight` \u001b[39m\u001b[39m\"\u001b[39m\n\u001b[0;32m    716\u001b[0m         \u001b[39m\"\u001b[39m\u001b[39mshould have the same length. \u001b[39m\u001b[39m\"\u001b[39m\n\u001b[0;32m    717\u001b[0m         \u001b[39m\"\u001b[39m\u001b[39mFound: x.shape = \u001b[39m\u001b[39m%s\u001b[39;00m\u001b[39m, sample_weight.shape = \u001b[39m\u001b[39m%s\u001b[39;00m\u001b[39m\"\u001b[39m\n\u001b[0;32m    718\u001b[0m         \u001b[39m%\u001b[39m (np\u001b[39m.\u001b[39masarray(x)\u001b[39m.\u001b[39mshape, np\u001b[39m.\u001b[39masarray(sample_weight)\u001b[39m.\u001b[39mshape)\n\u001b[0;32m    719\u001b[0m     )\n",
      "\u001b[1;31mValueError\u001b[0m: `x` (images tensor) and `y` (labels) should have the same length. Found: x.shape = (750, 750, 3), y.shape = (241,)"
     ]
    }
   ],
   "source": [
    "import numpy as np\n",
    "import matplotlib.pyplot as plt\n",
    "import seaborn as sns\n",
    "import os\n",
    "import cv2\n",
    "from sklearn.model_selection import train_test_split\n",
    "from sklearn.metrics import classification_report\n",
    "from sklearn.preprocessing import LabelEncoder\n",
    "from sklearn.ensemble import RandomForestClassifier\n",
    "from tensorflow.keras.preprocessing.image import ImageDataGenerator\n",
    "\n",
    "# Set up image data generator for data augmentation\n",
    "data_generator = ImageDataGenerator(rescale=1./255, shear_range=0.2, zoom_range=0.2, horizontal_flip=True)\n",
    "\n",
    "# Load images of healthy and stressed plants\n",
    "healthy_images = []\n",
    "stressed_images = []\n",
    "cnt, cnt2 = 0, 0\n",
    "for file in os.listdir(\"C:/Users/styli/Downloads/RGB_Augmented/DRhealthy\"):\n",
    "    img = cv2.imread(\"C:/Users/styli/Downloads/RGB_Augmented/DRhealthy/\" + file)\n",
    "    healthy_images.append(img)\n",
    "    if cnt == 150:\n",
    "        break\n",
    "    cnt += 1\n",
    "for file in os.listdir(\"C:/Users/styli/Downloads/RGB_Augmented/DRstressed\"):\n",
    "    img = cv2.imread(\"C:/Users/styli/Downloads/RGB_Augmented/DRstressed/\" + file)\n",
    "    stressed_images.append(img)\n",
    "    if cnt2 == 150:\n",
    "        break\n",
    "    cnt2 += 1\n",
    "print(cnt, cnt2)\n",
    "\n",
    "# Combine healthy and stressed plant images\n",
    "images = healthy_images + stressed_images\n",
    "\n",
    "# Create labels for the images\n",
    "labels = []\n",
    "for _ in range(len(healthy_images)):\n",
    "    labels.append(\"healthy\")\n",
    "for _ in range(len(stressed_images)):\n",
    "    labels.append(\"stressed\")\n",
    "\n",
    "# Encode labels as integers\n",
    "le = LabelEncoder()\n",
    "y = le.fit_transform(labels)\n",
    "\n",
    "# Split the data into training and testing sets\n",
    "X_train, X_test, y_train, y_test = train_test_split(images, y, test_size=0.2)\n",
    "\n",
    "# Generate batches of augmented training data\n",
    "train_generator = data_generator.flow(X_train, y_train, batch_size=32)\n",
    "\n",
    "# Train a random forest classifier\n",
    "clf = RandomForestClassifier()\n",
    "for epoch in range(10):\n",
    "    print(\"Epoch: \", epoch+1)\n",
    "    for i in range(10):\n",
    "        X_batch, y_batch = next(train_generator)\n",
    "        X_batch_reshaped = X_batch.reshape(X_batch.shape[0], -1)\n",
    "        clf.partial_fit(X_batch_reshaped, y_batch, classes=np.unique(y))\n",
    "\n",
    "# Make predictions on the test data\n",
    "test_generator = data_generator.flow(X_test, y_test, batch_size=32)\n",
    "X_test_batch, y_test_batch = next(test_generator)\n",
    "X_test_batch_reshaped = X_test_batch.reshape(X_test_batch.shape[0], -1)\n",
    "y_pred = clf.predict(X_test_batch_reshaped)\n",
    "\n",
    "# Print the classification report\n",
    "print(classification_report(y_test_batch, y_pred))\n"
   ]
  }
 ],
 "metadata": {
  "kernelspec": {
   "display_name": "Python 3",
   "language": "python",
   "name": "python3"
  },
  "language_info": {
   "codemirror_mode": {
    "name": "ipython",
    "version": 3
   },
   "file_extension": ".py",
   "mimetype": "text/x-python",
   "name": "python",
   "nbconvert_exporter": "python",
   "pygments_lexer": "ipython3",
   "version": "3.10.0"
  },
  "orig_nbformat": 4,
  "vscode": {
   "interpreter": {
    "hash": "b7ce7abf22f7a5afaad09d1a9716ec4cc0abdc414e5727d55e5cf8e73ea96cf8"
   }
  }
 },
 "nbformat": 4,
 "nbformat_minor": 2
}
